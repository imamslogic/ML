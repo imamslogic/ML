{
  "nbformat": 4,
  "nbformat_minor": 0,
  "metadata": {
    "kernelspec": {
      "display_name": "Python 3",
      "language": "python",
      "name": "python3"
    },
    "language_info": {
      "codemirror_mode": {
        "name": "ipython",
        "version": 3
      },
      "file_extension": ".py",
      "mimetype": "text/x-python",
      "name": "python",
      "nbconvert_exporter": "python",
      "pygments_lexer": "ipython3",
      "version": "3.7.3"
    },
    "colab": {
      "name": "Decision tree classifier.ipynb",
      "provenance": [],
      "toc_visible": true,
      "include_colab_link": true
    }
  },
  "cells": [
    {
      "cell_type": "markdown",
      "metadata": {
        "id": "view-in-github",
        "colab_type": "text"
      },
      "source": [
        "<a href=\"https://colab.research.google.com/github/imamslogic/ML/blob/main/Decision_tree_classifier.ipynb\" target=\"_parent\"><img src=\"https://colab.research.google.com/assets/colab-badge.svg\" alt=\"Open In Colab\"/></a>"
      ]
    },
    {
      "cell_type": "code",
      "metadata": {
        "id": "x8MZ4-kEa0Pn"
      },
      "source": [
        "import os"
      ],
      "execution_count": 27,
      "outputs": []
    },
    {
      "cell_type": "code",
      "metadata": {
        "id": "V3MQzit4a0Px"
      },
      "source": [
        "import numpy as np, pandas as pd, matplotlib.pyplot as plt \n",
        "import pydotplus\n",
        "from sklearn import tree, metrics, model_selection, preprocessing\n",
        "from IPython.display import Image, display\n",
        "#from utils import plot_decision"
      ],
      "execution_count": 28,
      "outputs": []
    },
    {
      "cell_type": "markdown",
      "metadata": {
        "id": "x6iKwwbfa0Pz"
      },
      "source": [
        "# Data Import and preparation"
      ]
    },
    {
      "cell_type": "code",
      "metadata": {
        "id": "eU-5dYhda0Pz",
        "colab": {
          "base_uri": "https://localhost:8080/",
          "height": 204
        },
        "outputId": "6d979e34-85d4-4948-a9a2-a5985c73994f"
      },
      "source": [
        "# load the iris data\n",
        "df = pd.read_csv('iris.csv')\n",
        "df.head(5)"
      ],
      "execution_count": 29,
      "outputs": [
        {
          "output_type": "execute_result",
          "data": {
            "text/html": [
              "<div>\n",
              "<style scoped>\n",
              "    .dataframe tbody tr th:only-of-type {\n",
              "        vertical-align: middle;\n",
              "    }\n",
              "\n",
              "    .dataframe tbody tr th {\n",
              "        vertical-align: top;\n",
              "    }\n",
              "\n",
              "    .dataframe thead th {\n",
              "        text-align: right;\n",
              "    }\n",
              "</style>\n",
              "<table border=\"1\" class=\"dataframe\">\n",
              "  <thead>\n",
              "    <tr style=\"text-align: right;\">\n",
              "      <th></th>\n",
              "      <th>sepal.length</th>\n",
              "      <th>sepal.width</th>\n",
              "      <th>petal.length</th>\n",
              "      <th>petal.width</th>\n",
              "      <th>species</th>\n",
              "    </tr>\n",
              "  </thead>\n",
              "  <tbody>\n",
              "    <tr>\n",
              "      <th>0</th>\n",
              "      <td>5.1</td>\n",
              "      <td>3.5</td>\n",
              "      <td>1.4</td>\n",
              "      <td>0.2</td>\n",
              "      <td>Setosa</td>\n",
              "    </tr>\n",
              "    <tr>\n",
              "      <th>1</th>\n",
              "      <td>4.9</td>\n",
              "      <td>3.0</td>\n",
              "      <td>1.4</td>\n",
              "      <td>0.2</td>\n",
              "      <td>Setosa</td>\n",
              "    </tr>\n",
              "    <tr>\n",
              "      <th>2</th>\n",
              "      <td>4.7</td>\n",
              "      <td>3.2</td>\n",
              "      <td>1.3</td>\n",
              "      <td>0.2</td>\n",
              "      <td>Setosa</td>\n",
              "    </tr>\n",
              "    <tr>\n",
              "      <th>3</th>\n",
              "      <td>4.6</td>\n",
              "      <td>3.1</td>\n",
              "      <td>1.5</td>\n",
              "      <td>0.2</td>\n",
              "      <td>Setosa</td>\n",
              "    </tr>\n",
              "    <tr>\n",
              "      <th>4</th>\n",
              "      <td>5.0</td>\n",
              "      <td>3.6</td>\n",
              "      <td>1.4</td>\n",
              "      <td>0.2</td>\n",
              "      <td>Setosa</td>\n",
              "    </tr>\n",
              "  </tbody>\n",
              "</table>\n",
              "</div>"
            ],
            "text/plain": [
              "   sepal.length  sepal.width  petal.length  petal.width species\n",
              "0           5.1          3.5           1.4          0.2  Setosa\n",
              "1           4.9          3.0           1.4          0.2  Setosa\n",
              "2           4.7          3.2           1.3          0.2  Setosa\n",
              "3           4.6          3.1           1.5          0.2  Setosa\n",
              "4           5.0          3.6           1.4          0.2  Setosa"
            ]
          },
          "metadata": {
            "tags": []
          },
          "execution_count": 29
        }
      ]
    },
    {
      "cell_type": "code",
      "metadata": {
        "id": "rkvtdz0na0P1",
        "colab": {
          "base_uri": "https://localhost:8080/"
        },
        "outputId": "b7a63b9d-414a-4889-ac3e-115cc4fa1b77"
      },
      "source": [
        "df['species_label'], _ = pd.factorize(df['species'])\n",
        "df['species'].unique()"
      ],
      "execution_count": 30,
      "outputs": [
        {
          "output_type": "execute_result",
          "data": {
            "text/plain": [
              "array(['Setosa', 'Versicolor', 'Virginica'], dtype=object)"
            ]
          },
          "metadata": {
            "tags": []
          },
          "execution_count": 30
        }
      ]
    },
    {
      "cell_type": "code",
      "metadata": {
        "id": "6hllcSCRa0P2"
      },
      "source": [
        "# select features\n",
        "y = df['species_label'] #Dependent feature\n",
        "X = df[['sepal.length', 'sepal.width']] #Independent features (subset)"
      ],
      "execution_count": 31,
      "outputs": []
    },
    {
      "cell_type": "code",
      "metadata": {
        "id": "h87XKN8Ca0P3"
      },
      "source": [
        "# split data randomly into 70% training and 30% test\n",
        "X_train, X_test, y_train, y_test = model_selection.train_test_split(X, y, \n",
        "                                                                    test_size=0.3, random_state=0)"
      ],
      "execution_count": 32,
      "outputs": []
    },
    {
      "cell_type": "markdown",
      "metadata": {
        "id": "uzGDGC0Ra0P3"
      },
      "source": [
        "# Training model"
      ]
    },
    {
      "cell_type": "code",
      "metadata": {
        "id": "jYbjtRmna0P4",
        "colab": {
          "base_uri": "https://localhost:8080/"
        },
        "outputId": "f5036565-e0b6-4f48-bc40-6268cfd577f2"
      },
      "source": [
        "# train the decision tree\n",
        "dtree = tree.DecisionTreeClassifier(criterion='entropy', max_depth=3)\n",
        "dtree.fit(X_train, y_train)"
      ],
      "execution_count": 33,
      "outputs": [
        {
          "output_type": "execute_result",
          "data": {
            "text/plain": [
              "DecisionTreeClassifier(ccp_alpha=0.0, class_weight=None, criterion='entropy',\n",
              "                       max_depth=3, max_features=None, max_leaf_nodes=None,\n",
              "                       min_impurity_decrease=0.0, min_impurity_split=None,\n",
              "                       min_samples_leaf=1, min_samples_split=2,\n",
              "                       min_weight_fraction_leaf=0.0, presort='deprecated',\n",
              "                       random_state=None, splitter='best')"
            ]
          },
          "metadata": {
            "tags": []
          },
          "execution_count": 33
        }
      ]
    },
    {
      "cell_type": "markdown",
      "metadata": {
        "id": "crHGXaO6a0P5"
      },
      "source": [
        "# Testing the model"
      ]
    },
    {
      "cell_type": "code",
      "metadata": {
        "id": "A1TxtU7ya0P5"
      },
      "source": [
        "y_pred = dtree.predict(X_test)"
      ],
      "execution_count": 34,
      "outputs": []
    },
    {
      "cell_type": "code",
      "metadata": {
        "id": "LuK0qpLza0P5",
        "colab": {
          "base_uri": "https://localhost:8080/"
        },
        "outputId": "8f929740-8fb4-45c9-a79b-0f4804800211"
      },
      "source": [
        "accuracy = metrics.accuracy_score(y_test, y_pred)\n",
        "print('Accuracy: {:.2f}'.format(accuracy))"
      ],
      "execution_count": 35,
      "outputs": [
        {
          "output_type": "stream",
          "text": [
            "Accuracy: 0.67\n"
          ],
          "name": "stdout"
        }
      ]
    },
    {
      "cell_type": "code",
      "metadata": {
        "id": "0stYLfBja0P6",
        "colab": {
          "base_uri": "https://localhost:8080/"
        },
        "outputId": "44dc8d40-9eeb-4f06-b76a-4ee2c732340b"
      },
      "source": [
        "from sklearn.metrics import classification_report, confusion_matrix\n",
        "print(confusion_matrix(y_test, y_pred))\n",
        "print(classification_report(y_test, y_pred))"
      ],
      "execution_count": 36,
      "outputs": [
        {
          "output_type": "stream",
          "text": [
            "[[16  0  0]\n",
            " [ 1  5 12]\n",
            " [ 0  2  9]]\n",
            "              precision    recall  f1-score   support\n",
            "\n",
            "           0       0.94      1.00      0.97        16\n",
            "           1       0.71      0.28      0.40        18\n",
            "           2       0.43      0.82      0.56        11\n",
            "\n",
            "    accuracy                           0.67        45\n",
            "   macro avg       0.69      0.70      0.64        45\n",
            "weighted avg       0.73      0.67      0.64        45\n",
            "\n"
          ],
          "name": "stdout"
        }
      ]
    },
    {
      "cell_type": "code",
      "metadata": {
        "id": "0FVubKGUa0P6",
        "colab": {
          "base_uri": "https://localhost:8080/",
          "height": 469
        },
        "outputId": "ad5878dd-3d9e-494f-a7fe-06d74e395d26"
      },
      "source": [
        "tree.plot_tree(dtree)"
      ],
      "execution_count": 37,
      "outputs": [
        {
          "output_type": "execute_result",
          "data": {
            "text/plain": [
              "[Text(153.45000000000002, 190.26, 'X[0] <= 5.45\\nentropy = 1.58\\nsamples = 105\\nvalue = [34, 32, 39]'),\n",
              " Text(83.7, 135.9, 'X[1] <= 2.75\\nentropy = 0.605\\nsamples = 35\\nvalue = [31, 3, 1]'),\n",
              " Text(55.800000000000004, 81.53999999999999, 'X[0] <= 4.7\\nentropy = 1.371\\nsamples = 5\\nvalue = [1, 3, 1]'),\n",
              " Text(27.900000000000002, 27.180000000000007, 'entropy = 0.0\\nsamples = 1\\nvalue = [1, 0, 0]'),\n",
              " Text(83.7, 27.180000000000007, 'entropy = 0.811\\nsamples = 4\\nvalue = [0, 3, 1]'),\n",
              " Text(111.60000000000001, 81.53999999999999, 'entropy = 0.0\\nsamples = 30\\nvalue = [30, 0, 0]'),\n",
              " Text(223.20000000000002, 135.9, 'X[0] <= 5.85\\nentropy = 1.2\\nsamples = 70\\nvalue = [3, 29, 38]'),\n",
              " Text(167.4, 81.53999999999999, 'X[1] <= 3.25\\nentropy = 1.149\\nsamples = 21\\nvalue = [3, 15, 3]'),\n",
              " Text(139.5, 27.180000000000007, 'entropy = 0.65\\nsamples = 18\\nvalue = [0, 15, 3]'),\n",
              " Text(195.3, 27.180000000000007, 'entropy = 0.0\\nsamples = 3\\nvalue = [3, 0, 0]'),\n",
              " Text(279.0, 81.53999999999999, 'X[0] <= 7.05\\nentropy = 0.863\\nsamples = 49\\nvalue = [0, 14, 35]'),\n",
              " Text(251.10000000000002, 27.180000000000007, 'entropy = 0.949\\nsamples = 38\\nvalue = [0, 14, 24]'),\n",
              " Text(306.90000000000003, 27.180000000000007, 'entropy = 0.0\\nsamples = 11\\nvalue = [0, 0, 11]')]"
            ]
          },
          "metadata": {
            "tags": []
          },
          "execution_count": 37
        },
        {
          "output_type": "display_data",
          "data": {
            "image/png": "[encoded data removed]",
            "text/plain": [
              "<Figure size 432x288 with 1 Axes>"
            ]
          },
          "metadata": {
            "tags": [],
            "needs_background": "light"
          }
        }
      ]
    }
  ]
}